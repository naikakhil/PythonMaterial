{
 "cells": [
  {
   "cell_type": "markdown",
   "metadata": {},
   "source": [
    "# **Python**"
   ]
  },
  {
   "cell_type": "markdown",
   "metadata": {},
   "source": [
    "- Python is a language and not an application (eg. Spreadsheet is not an application, excel, google sheets etc. is implementation/application)\n",
    "    - a defined grammer, set of functionalities\n",
    "- There are different types of python implementation \n",
    "    - **CPython** -- Reference python implementation (https://www.python.org)\n",
    "        - open source, written in C\n",
    "        - Includes the Standard Library (Collection of additional functionalities that goes beyond just Python) written in either C or Python itself\n",
    "        - Official Implementation: implementation of python language + Standard Library \n",
    "\n",
    "    Other implementations \n",
    "    - PyPy\n",
    "    - Some cpmpilers translate python to other languages\n",
    "        - IronPython --> .NET\n",
    "        - Jython --> Java\n",
    "        - Cython --> C/C++\n",
    "\n",
    "- Installing python : https://realpython.com/installing-python/\n",
    "- Setup python virtual environment : https://www.freecodecamp.org/news/how-to-setup-virtual-environments-in-python/"
   ]
  },
  {
   "cell_type": "code",
   "execution_count": null,
   "metadata": {},
   "outputs": [
    {
     "name": "stdout",
     "output_type": "stream",
     "text": [
      "Python 3.12.2\n"
     ]
    }
   ],
   "source": [
    "!python --version # know your python version"
   ]
  },
  {
   "cell_type": "markdown",
   "metadata": {},
   "source": [
    "## **Python Variables**"
   ]
  },
  {
   "cell_type": "code",
   "execution_count": 3,
   "metadata": {},
   "outputs": [
    {
     "name": "stdout",
     "output_type": "stream",
     "text": [
      "4\n",
      "3\n"
     ]
    }
   ],
   "source": [
    "a = 4\n",
    "b = 3\n",
    "c = 7\n",
    "# Print out some information into the output of the cell\n",
    "print(a)\n",
    "print(b)"
   ]
  },
  {
   "cell_type": "code",
   "execution_count": 5,
   "metadata": {},
   "outputs": [
    {
     "data": {
      "text/plain": [
       "['a', 'b', 'c']"
      ]
     },
     "execution_count": 5,
     "metadata": {},
     "output_type": "execute_result"
    }
   ],
   "source": [
    "%who_ls"
   ]
  }
 ],
 "metadata": {
  "kernelspec": {
   "display_name": "env",
   "language": "python",
   "name": "python3"
  },
  "language_info": {
   "codemirror_mode": {
    "name": "ipython",
    "version": 3
   },
   "file_extension": ".py",
   "mimetype": "text/x-python",
   "name": "python",
   "nbconvert_exporter": "python",
   "pygments_lexer": "ipython3",
   "version": "3.11.9"
  }
 },
 "nbformat": 4,
 "nbformat_minor": 2
}
