{
 "cells": [
  {
   "cell_type": "code",
   "execution_count": 2,
   "metadata": {},
   "outputs": [],
   "source": [
    "import numpy as np"
   ]
  },
  {
   "cell_type": "code",
   "execution_count": 3,
   "metadata": {},
   "outputs": [
    {
     "name": "stdout",
     "output_type": "stream",
     "text": [
      "The total time taken using lists for N = 1000000 is 0.1160433292388916\n",
      "The total time taken using NumPy for N = 1000000 is 0.0010004043579101562\n",
      "333332833333500000 333332833333500000\n"
     ]
    }
   ],
   "source": [
    "import time\n",
    "\n",
    "N = 1_000_000 # this is an integer, the underscore will be ignored. Underscore can be used to make large numbers more readable.\n",
    "# The underscore is not part of the number, so N is 100000000, not 100_000_000.\n",
    "\n",
    "# list\n",
    "\n",
    "list1 = range(N)\n",
    "list2 = range(N)\n",
    "\n",
    "sum = 0\n",
    "\n",
    "start_time = time.time()\n",
    "\n",
    "for i in range(N):\n",
    "  sum+=list1[i]*list2[i]\n",
    "\n",
    "end_time = time.time()\n",
    "\n",
    "print(f\"The total time taken using lists for N = {N} is\", end_time-start_time)\n",
    "\n",
    "# numpy\n",
    "\n",
    "array1 = np.arange(N)\n",
    "array2 = np.arange(N)\n",
    "\n",
    "start_time = time.time()\n",
    "\n",
    "dot_product = np.dot(array1,array2)\n",
    "\n",
    "end_time = time.time()\n",
    "\n",
    "print(f\"The total time taken using NumPy for N = {N} is\", end_time-start_time)\n",
    "print (sum, dot_product)"
   ]
  },
  {
   "cell_type": "markdown",
   "metadata": {},
   "source": [
    "Scenario:\n",
    "You are given the marks of 5 students in 3 subjects as a 2D array. \n",
    "\n",
    "Your task is to:\n",
    "Calculate the average marks for each student.\n",
    "Identify the top-performing student."
   ]
  },
  {
   "cell_type": "code",
   "execution_count": 4,
   "metadata": {},
   "outputs": [
    {
     "name": "stdout",
     "output_type": "stream",
     "text": [
      "Average marks for each student: [85.         82.         90.66666667 75.         91.66666667]\n",
      "Top-performing student marks: [88 92 95]\n"
     ]
    }
   ],
   "source": [
    "marks = np.array([[85, 78, 92],\n",
    "                  [76, 81, 89],\n",
    "                  [90, 94, 88],\n",
    "                  [70, 75, 80],\n",
    "                  [88, 92, 95]])\n",
    "\n",
    "# Calculate the average marks for each student\n",
    "average_marks = np.mean(marks, axis=1)\n",
    "print(\"Average marks for each student:\", average_marks)\n",
    "\n",
    "# Identify the top-performing student\n",
    "top_student_index = np.argmax(average_marks)\n",
    "top_student_marks = marks[top_student_index]\n",
    "print(\"Top-performing student marks:\", top_student_marks)\n",
    "\n",
    "# The top-performing student is the one with the highest average marks.\n",
    "# The index of the top-performing student is obtained using np.argmax, which returns the index of the maximum value along the specified axis."
   ]
  },
  {
   "cell_type": "code",
   "execution_count": null,
   "metadata": {},
   "outputs": [],
   "source": []
  }
 ],
 "metadata": {
  "kernelspec": {
   "display_name": "env",
   "language": "python",
   "name": "python3"
  },
  "language_info": {
   "codemirror_mode": {
    "name": "ipython",
    "version": 3
   },
   "file_extension": ".py",
   "mimetype": "text/x-python",
   "name": "python",
   "nbconvert_exporter": "python",
   "pygments_lexer": "ipython3",
   "version": "3.11.9"
  }
 },
 "nbformat": 4,
 "nbformat_minor": 2
}
