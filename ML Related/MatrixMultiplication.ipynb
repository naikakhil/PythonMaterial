{
 "cells": [
  {
   "cell_type": "markdown",
   "metadata": {},
   "source": [
    "# **Matrix Multiplication**"
   ]
  },
  {
   "cell_type": "code",
   "execution_count": 10,
   "metadata": {},
   "outputs": [],
   "source": [
    "import timeit # to check time taken\n",
    "import numpy as np "
   ]
  },
  {
   "cell_type": "markdown",
   "metadata": {},
   "source": [
    "#### **Naive approach**"
   ]
  },
  {
   "cell_type": "code",
   "execution_count": 15,
   "metadata": {},
   "outputs": [
    {
     "name": "stdout",
     "output_type": "stream",
     "text": [
      "[[29, 35], [80, 101], [29, 35]]\n",
      "\n",
      "Total time take: 5.618800059892237e-05\n"
     ]
    }
   ],
   "source": [
    "\n",
    "def mat_mul(mat1:list, mat2:list):\n",
    "\n",
    "    # For Matrix multiplication you need to have number of columns in your first matrix to be equal to number of rows in second\n",
    "    # p x q1, q2 x r, sizes of two matrices, q1 and q2 must be same\n",
    "\n",
    "    # Ensure matrix multiplication is possible\n",
    "    if len(mat1[0]) != len(mat2):\n",
    "        return \"Matrix multiplication not possible due to dimensionality mismatch\"\n",
    "    \n",
    "    p, q, r = len(mat1), len(mat2), len(mat2[0])  # Dimensions\n",
    "    \n",
    "    # Initialize result matrix during multiplication instead of pre-allocating\n",
    "    result = []\n",
    "    \n",
    "    # Perform matrix multiplication\n",
    "    for i in range(p):  # going through each row of first matrix\n",
    "        result.append([])  # Initialize new row in result\n",
    "        for j in range(r):  # going through each column of second matrix\n",
    "            sum_val = 0  # Initialize sum for this cell\n",
    "            for k in range(q):  # going through each element to calculate dot product\n",
    "                sum_val += mat1[i][k] * mat2[k][j]\n",
    "            result[i].append(sum_val)  # Add calculated value to result\n",
    "                \n",
    "    return result\n",
    "\n",
    "\n",
    "# --------------------------------------------------------------------------------------------------------------\n",
    "\n",
    "mat1 = [[1, 2, 3],[4,5,6],[1,2,3]]\n",
    "mat2 = [[7,10],[8,11],[2,1]]\n",
    "\n",
    "start = timeit.default_timer()\n",
    "\n",
    "mat_product = mat_mul(mat1,mat2)\n",
    "\n",
    "time_taken = timeit.default_timer() - start\n",
    "\n",
    "print(mat_product)\n",
    "print(\"\\nTotal time take:\",time_taken )"
   ]
  },
  {
   "cell_type": "markdown",
   "metadata": {},
   "source": [
    "#### **Using Numpy**"
   ]
  },
  {
   "cell_type": "code",
   "execution_count": 14,
   "metadata": {},
   "outputs": [
    {
     "name": "stdout",
     "output_type": "stream",
     "text": [
      "[[ 29  35]\n",
      " [ 80 101]\n",
      " [ 29  35]]\n",
      "\n",
      "Total time take: 3.863099846057594e-05\n"
     ]
    }
   ],
   "source": [
    "np_mat1 = np.array([[1, 2, 3],[4,5,6],[1,2,3]])\n",
    "np_mat2 = np.array([[7,10],[8,11],[2,1]])\n",
    "\n",
    "start = timeit.default_timer()\n",
    "\n",
    "mat_product = np.matmul(np_mat1, np_mat2)\n",
    "\n",
    "time_taken = timeit.default_timer() - start\n",
    "\n",
    "print(mat_product)\n",
    "print(\"\\nTotal time take:\",time_taken )"
   ]
  },
  {
   "cell_type": "code",
   "execution_count": null,
   "metadata": {},
   "outputs": [],
   "source": []
  }
 ],
 "metadata": {
  "kernelspec": {
   "display_name": "env",
   "language": "python",
   "name": "python3"
  },
  "language_info": {
   "codemirror_mode": {
    "name": "ipython",
    "version": 3
   },
   "file_extension": ".py",
   "mimetype": "text/x-python",
   "name": "python",
   "nbconvert_exporter": "python",
   "pygments_lexer": "ipython3",
   "version": "3.11.11"
  }
 },
 "nbformat": 4,
 "nbformat_minor": 2
}
